{
 "cells": [
  {
   "cell_type": "code",
   "execution_count": 1,
   "id": "fee3dea3",
   "metadata": {},
   "outputs": [
    {
     "name": "stdout",
     "output_type": "stream",
     "text": [
      "WARNING:tensorflow:From C:\\Users\\SWATHY KRISHNA\\anaconda3\\Lib\\site-packages\\keras\\src\\losses.py:2976: The name tf.losses.sparse_softmax_cross_entropy is deprecated. Please use tf.compat.v1.losses.sparse_softmax_cross_entropy instead.\n",
      "\n"
     ]
    }
   ],
   "source": [
    "import pandas as pd\n",
    "import numpy as np\n",
    "import matplotlib.pyplot as plt\n",
    "from sklearn.preprocessing import MinMaxScaler\n",
    "from sklearn.metrics import mean_squared_error\n",
    "from tensorflow.keras.models import Sequential\n",
    "from tensorflow.keras.layers import LSTM, Dense, Dropout"
   ]
  },
  {
   "cell_type": "code",
   "execution_count": 2,
   "id": "e1c68548",
   "metadata": {},
   "outputs": [
    {
     "data": {
      "text/html": [
       "<div>\n",
       "<style scoped>\n",
       "    .dataframe tbody tr th:only-of-type {\n",
       "        vertical-align: middle;\n",
       "    }\n",
       "\n",
       "    .dataframe tbody tr th {\n",
       "        vertical-align: top;\n",
       "    }\n",
       "\n",
       "    .dataframe thead th {\n",
       "        text-align: right;\n",
       "    }\n",
       "</style>\n",
       "<table border=\"1\" class=\"dataframe\">\n",
       "  <thead>\n",
       "    <tr style=\"text-align: right;\">\n",
       "      <th></th>\n",
       "      <th>Date</th>\n",
       "      <th>Open</th>\n",
       "      <th>High</th>\n",
       "      <th>Low</th>\n",
       "      <th>Close</th>\n",
       "      <th>Adj Close</th>\n",
       "      <th>Volume</th>\n",
       "    </tr>\n",
       "  </thead>\n",
       "  <tbody>\n",
       "    <tr>\n",
       "      <th>0</th>\n",
       "      <td>1980-12-12</td>\n",
       "      <td>0.128348</td>\n",
       "      <td>0.128906</td>\n",
       "      <td>0.128348</td>\n",
       "      <td>0.128348</td>\n",
       "      <td>0.100178</td>\n",
       "      <td>469033600</td>\n",
       "    </tr>\n",
       "    <tr>\n",
       "      <th>1</th>\n",
       "      <td>1980-12-15</td>\n",
       "      <td>0.122210</td>\n",
       "      <td>0.122210</td>\n",
       "      <td>0.121652</td>\n",
       "      <td>0.121652</td>\n",
       "      <td>0.094952</td>\n",
       "      <td>175884800</td>\n",
       "    </tr>\n",
       "    <tr>\n",
       "      <th>2</th>\n",
       "      <td>1980-12-16</td>\n",
       "      <td>0.113281</td>\n",
       "      <td>0.113281</td>\n",
       "      <td>0.112723</td>\n",
       "      <td>0.112723</td>\n",
       "      <td>0.087983</td>\n",
       "      <td>105728000</td>\n",
       "    </tr>\n",
       "    <tr>\n",
       "      <th>3</th>\n",
       "      <td>1980-12-17</td>\n",
       "      <td>0.115513</td>\n",
       "      <td>0.116071</td>\n",
       "      <td>0.115513</td>\n",
       "      <td>0.115513</td>\n",
       "      <td>0.090160</td>\n",
       "      <td>86441600</td>\n",
       "    </tr>\n",
       "    <tr>\n",
       "      <th>4</th>\n",
       "      <td>1980-12-18</td>\n",
       "      <td>0.118862</td>\n",
       "      <td>0.119420</td>\n",
       "      <td>0.118862</td>\n",
       "      <td>0.118862</td>\n",
       "      <td>0.092774</td>\n",
       "      <td>73449600</td>\n",
       "    </tr>\n",
       "    <tr>\n",
       "      <th>...</th>\n",
       "      <td>...</td>\n",
       "      <td>...</td>\n",
       "      <td>...</td>\n",
       "      <td>...</td>\n",
       "      <td>...</td>\n",
       "      <td>...</td>\n",
       "      <td>...</td>\n",
       "    </tr>\n",
       "    <tr>\n",
       "      <th>10463</th>\n",
       "      <td>2022-06-13</td>\n",
       "      <td>132.869995</td>\n",
       "      <td>135.199997</td>\n",
       "      <td>131.440002</td>\n",
       "      <td>131.880005</td>\n",
       "      <td>131.880005</td>\n",
       "      <td>122207100</td>\n",
       "    </tr>\n",
       "    <tr>\n",
       "      <th>10464</th>\n",
       "      <td>2022-06-14</td>\n",
       "      <td>133.130005</td>\n",
       "      <td>133.889999</td>\n",
       "      <td>131.479996</td>\n",
       "      <td>132.759995</td>\n",
       "      <td>132.759995</td>\n",
       "      <td>84784300</td>\n",
       "    </tr>\n",
       "    <tr>\n",
       "      <th>10465</th>\n",
       "      <td>2022-06-15</td>\n",
       "      <td>134.289993</td>\n",
       "      <td>137.339996</td>\n",
       "      <td>132.160004</td>\n",
       "      <td>135.429993</td>\n",
       "      <td>135.429993</td>\n",
       "      <td>91533000</td>\n",
       "    </tr>\n",
       "    <tr>\n",
       "      <th>10466</th>\n",
       "      <td>2022-06-16</td>\n",
       "      <td>132.080002</td>\n",
       "      <td>132.389999</td>\n",
       "      <td>129.039993</td>\n",
       "      <td>130.059998</td>\n",
       "      <td>130.059998</td>\n",
       "      <td>108123900</td>\n",
       "    </tr>\n",
       "    <tr>\n",
       "      <th>10467</th>\n",
       "      <td>2022-06-17</td>\n",
       "      <td>130.070007</td>\n",
       "      <td>133.080002</td>\n",
       "      <td>129.809998</td>\n",
       "      <td>131.559998</td>\n",
       "      <td>131.559998</td>\n",
       "      <td>134118500</td>\n",
       "    </tr>\n",
       "  </tbody>\n",
       "</table>\n",
       "<p>10468 rows × 7 columns</p>\n",
       "</div>"
      ],
      "text/plain": [
       "             Date        Open        High         Low       Close   Adj Close  \\\n",
       "0      1980-12-12    0.128348    0.128906    0.128348    0.128348    0.100178   \n",
       "1      1980-12-15    0.122210    0.122210    0.121652    0.121652    0.094952   \n",
       "2      1980-12-16    0.113281    0.113281    0.112723    0.112723    0.087983   \n",
       "3      1980-12-17    0.115513    0.116071    0.115513    0.115513    0.090160   \n",
       "4      1980-12-18    0.118862    0.119420    0.118862    0.118862    0.092774   \n",
       "...           ...         ...         ...         ...         ...         ...   \n",
       "10463  2022-06-13  132.869995  135.199997  131.440002  131.880005  131.880005   \n",
       "10464  2022-06-14  133.130005  133.889999  131.479996  132.759995  132.759995   \n",
       "10465  2022-06-15  134.289993  137.339996  132.160004  135.429993  135.429993   \n",
       "10466  2022-06-16  132.080002  132.389999  129.039993  130.059998  130.059998   \n",
       "10467  2022-06-17  130.070007  133.080002  129.809998  131.559998  131.559998   \n",
       "\n",
       "          Volume  \n",
       "0      469033600  \n",
       "1      175884800  \n",
       "2      105728000  \n",
       "3       86441600  \n",
       "4       73449600  \n",
       "...          ...  \n",
       "10463  122207100  \n",
       "10464   84784300  \n",
       "10465   91533000  \n",
       "10466  108123900  \n",
       "10467  134118500  \n",
       "\n",
       "[10468 rows x 7 columns]"
      ]
     },
     "execution_count": 2,
     "metadata": {},
     "output_type": "execute_result"
    }
   ],
   "source": [
    "data=pd.read_csv(\"AAPL.csv\")\n",
    "data"
   ]
  },
  {
   "cell_type": "code",
   "execution_count": 3,
   "id": "ecf5171b",
   "metadata": {},
   "outputs": [
    {
     "data": {
      "text/html": [
       "<div>\n",
       "<style scoped>\n",
       "    .dataframe tbody tr th:only-of-type {\n",
       "        vertical-align: middle;\n",
       "    }\n",
       "\n",
       "    .dataframe tbody tr th {\n",
       "        vertical-align: top;\n",
       "    }\n",
       "\n",
       "    .dataframe thead th {\n",
       "        text-align: right;\n",
       "    }\n",
       "</style>\n",
       "<table border=\"1\" class=\"dataframe\">\n",
       "  <thead>\n",
       "    <tr style=\"text-align: right;\">\n",
       "      <th></th>\n",
       "      <th>Date</th>\n",
       "      <th>Open</th>\n",
       "      <th>High</th>\n",
       "      <th>Low</th>\n",
       "      <th>Close</th>\n",
       "      <th>Adj Close</th>\n",
       "      <th>Volume</th>\n",
       "    </tr>\n",
       "  </thead>\n",
       "  <tbody>\n",
       "    <tr>\n",
       "      <th>0</th>\n",
       "      <td>1980-12-12</td>\n",
       "      <td>0.128348</td>\n",
       "      <td>0.128906</td>\n",
       "      <td>0.128348</td>\n",
       "      <td>0.128348</td>\n",
       "      <td>0.100178</td>\n",
       "      <td>469033600</td>\n",
       "    </tr>\n",
       "    <tr>\n",
       "      <th>1</th>\n",
       "      <td>1980-12-15</td>\n",
       "      <td>0.122210</td>\n",
       "      <td>0.122210</td>\n",
       "      <td>0.121652</td>\n",
       "      <td>0.121652</td>\n",
       "      <td>0.094952</td>\n",
       "      <td>175884800</td>\n",
       "    </tr>\n",
       "    <tr>\n",
       "      <th>2</th>\n",
       "      <td>1980-12-16</td>\n",
       "      <td>0.113281</td>\n",
       "      <td>0.113281</td>\n",
       "      <td>0.112723</td>\n",
       "      <td>0.112723</td>\n",
       "      <td>0.087983</td>\n",
       "      <td>105728000</td>\n",
       "    </tr>\n",
       "    <tr>\n",
       "      <th>3</th>\n",
       "      <td>1980-12-17</td>\n",
       "      <td>0.115513</td>\n",
       "      <td>0.116071</td>\n",
       "      <td>0.115513</td>\n",
       "      <td>0.115513</td>\n",
       "      <td>0.090160</td>\n",
       "      <td>86441600</td>\n",
       "    </tr>\n",
       "    <tr>\n",
       "      <th>4</th>\n",
       "      <td>1980-12-18</td>\n",
       "      <td>0.118862</td>\n",
       "      <td>0.119420</td>\n",
       "      <td>0.118862</td>\n",
       "      <td>0.118862</td>\n",
       "      <td>0.092774</td>\n",
       "      <td>73449600</td>\n",
       "    </tr>\n",
       "  </tbody>\n",
       "</table>\n",
       "</div>"
      ],
      "text/plain": [
       "         Date      Open      High       Low     Close  Adj Close     Volume\n",
       "0  1980-12-12  0.128348  0.128906  0.128348  0.128348   0.100178  469033600\n",
       "1  1980-12-15  0.122210  0.122210  0.121652  0.121652   0.094952  175884800\n",
       "2  1980-12-16  0.113281  0.113281  0.112723  0.112723   0.087983  105728000\n",
       "3  1980-12-17  0.115513  0.116071  0.115513  0.115513   0.090160   86441600\n",
       "4  1980-12-18  0.118862  0.119420  0.118862  0.118862   0.092774   73449600"
      ]
     },
     "execution_count": 3,
     "metadata": {},
     "output_type": "execute_result"
    }
   ],
   "source": [
    "data.head()"
   ]
  },
  {
   "cell_type": "code",
   "execution_count": 4,
   "id": "4293b417",
   "metadata": {},
   "outputs": [
    {
     "data": {
      "text/plain": [
       "Date         0\n",
       "Open         0\n",
       "High         0\n",
       "Low          0\n",
       "Close        0\n",
       "Adj Close    0\n",
       "Volume       0\n",
       "dtype: int64"
      ]
     },
     "execution_count": 4,
     "metadata": {},
     "output_type": "execute_result"
    }
   ],
   "source": [
    "data.isnull().sum()"
   ]
  },
  {
   "cell_type": "code",
   "execution_count": 5,
   "id": "1c194161",
   "metadata": {},
   "outputs": [],
   "source": [
    "data['Date'] = pd.to_datetime(data['Date'])\n",
    "data.set_index('Date', inplace=True)"
   ]
  },
  {
   "cell_type": "code",
   "execution_count": 6,
   "id": "e4f481e5",
   "metadata": {},
   "outputs": [
    {
     "data": {
      "image/png": "[encoded data removed]",
      "text/plain": [
       "<Figure size 1000x600 with 1 Axes>"
      ]
     },
     "metadata": {},
     "output_type": "display_data"
    }
   ],
   "source": [
    "plt.figure(figsize=(10,6))\n",
    "plt.plot(data['Close'], label='Close Price History')\n",
    "plt.xlabel('Date')\n",
    "plt.ylabel('Close Price')\n",
    "plt.title('Stock Price History')\n",
    "plt.legend()\n",
    "plt.show()"
   ]
  },
  {
   "cell_type": "code",
   "execution_count": 7,
   "id": "b539235d",
   "metadata": {},
   "outputs": [],
   "source": [
    "data_close = data['Close'].values.reshape(-1, 1)"
   ]
  },
  {
   "cell_type": "code",
   "execution_count": 8,
   "id": "05622a39",
   "metadata": {},
   "outputs": [],
   "source": [
    "scaler = MinMaxScaler(feature_range=(0, 1))\n",
    "scaled_data = scaler.fit_transform(data_close)"
   ]
  },
  {
   "cell_type": "code",
   "execution_count": 9,
   "id": "d589d978",
   "metadata": {},
   "outputs": [],
   "source": [
    "training_size = int(len(scaled_data) * 0.8)\n",
    "train_data, test_data = scaled_data[0:training_size], scaled_data[training_size:]"
   ]
  },
  {
   "cell_type": "code",
   "execution_count": 10,
   "id": "27ae1071",
   "metadata": {},
   "outputs": [],
   "source": [
    "def create_dataset(dataset, time_step=1):\n",
    "    X, Y = [], []\n",
    "    for i in range(len(dataset) - time_step):\n",
    "        X.append(dataset[i:(i + time_step), 0])\n",
    "        Y.append(dataset[i + time_step, 0])\n",
    "    return np.array(X), np.array(Y)"
   ]
  },
  {
   "cell_type": "code",
   "execution_count": 11,
   "id": "429bcee5",
   "metadata": {},
   "outputs": [],
   "source": [
    "time_step = 5\n",
    "X_train, y_train = create_dataset(train_data, time_step)\n",
    "X_test, y_test = create_dataset(test_data, time_step)"
   ]
  },
  {
   "cell_type": "code",
   "execution_count": 12,
   "id": "b6829fb4",
   "metadata": {},
   "outputs": [],
   "source": [
    "X_train = X_train.reshape(X_train.shape[0], X_train.shape[1], 1)\n",
    "X_test = X_test.reshape(X_test.shape[0], X_test.shape[1], 1)"
   ]
  },
  {
   "cell_type": "code",
   "execution_count": 13,
   "id": "b5508eac",
   "metadata": {},
   "outputs": [
    {
     "name": "stdout",
     "output_type": "stream",
     "text": [
      "WARNING:tensorflow:From C:\\Users\\SWATHY KRISHNA\\anaconda3\\Lib\\site-packages\\keras\\src\\backend.py:873: The name tf.get_default_graph is deprecated. Please use tf.compat.v1.get_default_graph instead.\n",
      "\n",
      "WARNING:tensorflow:From C:\\Users\\SWATHY KRISHNA\\anaconda3\\Lib\\site-packages\\keras\\src\\optimizers\\__init__.py:309: The name tf.train.Optimizer is deprecated. Please use tf.compat.v1.train.Optimizer instead.\n",
      "\n"
     ]
    }
   ],
   "source": [
    "model = Sequential()\n",
    "model.add(LSTM(units=50, return_sequences=False, input_shape=(time_step, 1)))\n",
    "model.add(Dense(1))\n",
    "model.compile(optimizer='adam', loss='mean_squared_error')"
   ]
  },
  {
   "cell_type": "code",
   "execution_count": 14,
   "id": "fe5a476c",
   "metadata": {},
   "outputs": [
    {
     "name": "stdout",
     "output_type": "stream",
     "text": [
      "Epoch 1/50\n",
      "WARNING:tensorflow:From C:\\Users\\SWATHY KRISHNA\\anaconda3\\Lib\\site-packages\\keras\\src\\utils\\tf_utils.py:492: The name tf.ragged.RaggedTensorValue is deprecated. Please use tf.compat.v1.ragged.RaggedTensorValue instead.\n",
      "\n",
      "8369/8369 [==============================] - 25s 3ms/step - loss: 9.6709e-06\n",
      "Epoch 2/50\n",
      "8369/8369 [==============================] - 23s 3ms/step - loss: 3.2030e-06\n",
      "Epoch 3/50\n",
      "8369/8369 [==============================] - 23s 3ms/step - loss: 2.3050e-06\n",
      "Epoch 4/50\n",
      "8369/8369 [==============================] - 26s 3ms/step - loss: 1.8238e-06\n",
      "Epoch 5/50\n",
      "8369/8369 [==============================] - 27s 3ms/step - loss: 1.6776e-06\n",
      "Epoch 6/50\n",
      "8369/8369 [==============================] - 24s 3ms/step - loss: 1.4825e-06\n",
      "Epoch 7/50\n",
      "8369/8369 [==============================] - 30s 4ms/step - loss: 1.3132e-06\n",
      "Epoch 8/50\n",
      "8369/8369 [==============================] - 24s 3ms/step - loss: 1.3867e-06\n",
      "Epoch 9/50\n",
      "8369/8369 [==============================] - 24s 3ms/step - loss: 1.2741e-06\n",
      "Epoch 10/50\n",
      "8369/8369 [==============================] - 34s 4ms/step - loss: 1.2731e-06\n",
      "Epoch 11/50\n",
      "8369/8369 [==============================] - 27s 3ms/step - loss: 1.1627e-06\n",
      "Epoch 12/50\n",
      "8369/8369 [==============================] - 29s 3ms/step - loss: 1.1125e-06\n",
      "Epoch 13/50\n",
      "8369/8369 [==============================] - 30s 4ms/step - loss: 1.1435e-06\n",
      "Epoch 14/50\n",
      "8369/8369 [==============================] - 29s 3ms/step - loss: 1.1150e-06\n",
      "Epoch 15/50\n",
      "8369/8369 [==============================] - 26s 3ms/step - loss: 1.0348e-06\n",
      "Epoch 16/50\n",
      "8369/8369 [==============================] - 28s 3ms/step - loss: 1.0828e-06\n",
      "Epoch 17/50\n",
      "8369/8369 [==============================] - 26s 3ms/step - loss: 1.0601e-06\n",
      "Epoch 18/50\n",
      "8369/8369 [==============================] - 27s 3ms/step - loss: 1.0069e-06\n",
      "Epoch 19/50\n",
      "8369/8369 [==============================] - 27s 3ms/step - loss: 1.0100e-06\n",
      "Epoch 20/50\n",
      "8369/8369 [==============================] - 27s 3ms/step - loss: 1.0276e-06\n",
      "Epoch 21/50\n",
      "8369/8369 [==============================] - 23s 3ms/step - loss: 9.6087e-07\n",
      "Epoch 22/50\n",
      "8369/8369 [==============================] - 21s 2ms/step - loss: 9.4963e-07\n",
      "Epoch 23/50\n",
      "8369/8369 [==============================] - 22s 3ms/step - loss: 9.6166e-07\n",
      "Epoch 24/50\n",
      "8369/8369 [==============================] - 21s 3ms/step - loss: 9.7986e-07\n",
      "Epoch 25/50\n",
      "8369/8369 [==============================] - 23s 3ms/step - loss: 9.2163e-07\n",
      "Epoch 26/50\n",
      "8369/8369 [==============================] - 22s 3ms/step - loss: 9.5007e-07\n",
      "Epoch 27/50\n",
      "8369/8369 [==============================] - 21s 2ms/step - loss: 9.7887e-07\n",
      "Epoch 28/50\n",
      "8369/8369 [==============================] - 21s 2ms/step - loss: 9.1697e-07\n",
      "Epoch 29/50\n",
      "8369/8369 [==============================] - 21s 3ms/step - loss: 9.2477e-07\n",
      "Epoch 30/50\n",
      "8369/8369 [==============================] - 21s 3ms/step - loss: 9.0888e-07\n",
      "Epoch 31/50\n",
      "8369/8369 [==============================] - 22s 3ms/step - loss: 9.2112e-07\n",
      "Epoch 32/50\n",
      "8369/8369 [==============================] - 26s 3ms/step - loss: 8.5617e-07\n",
      "Epoch 33/50\n",
      "8369/8369 [==============================] - 23s 3ms/step - loss: 8.7975e-07\n",
      "Epoch 34/50\n",
      "8369/8369 [==============================] - 23s 3ms/step - loss: 8.9298e-07\n",
      "Epoch 35/50\n",
      "8369/8369 [==============================] - 21s 3ms/step - loss: 8.9233e-07\n",
      "Epoch 36/50\n",
      "8369/8369 [==============================] - 28s 3ms/step - loss: 8.7101e-07\n",
      "Epoch 37/50\n",
      "8369/8369 [==============================] - 29s 4ms/step - loss: 8.9157e-07\n",
      "Epoch 38/50\n",
      "8369/8369 [==============================] - 23s 3ms/step - loss: 8.5351e-07\n",
      "Epoch 39/50\n",
      "8369/8369 [==============================] - 21s 3ms/step - loss: 8.8547e-07\n",
      "Epoch 40/50\n",
      "8369/8369 [==============================] - 23s 3ms/step - loss: 8.6827e-07\n",
      "Epoch 41/50\n",
      "8369/8369 [==============================] - 25s 3ms/step - loss: 8.5288e-07\n",
      "Epoch 42/50\n",
      "8369/8369 [==============================] - 23s 3ms/step - loss: 9.0057e-07\n",
      "Epoch 43/50\n",
      "8369/8369 [==============================] - 22s 3ms/step - loss: 8.6829e-07\n",
      "Epoch 44/50\n",
      "8369/8369 [==============================] - 23s 3ms/step - loss: 8.4490e-07\n",
      "Epoch 45/50\n",
      "8369/8369 [==============================] - 22s 3ms/step - loss: 8.5442e-07\n",
      "Epoch 46/50\n",
      "8369/8369 [==============================] - 23s 3ms/step - loss: 8.5021e-07\n",
      "Epoch 47/50\n",
      "8369/8369 [==============================] - 24s 3ms/step - loss: 8.7063e-07\n",
      "Epoch 48/50\n",
      "8369/8369 [==============================] - 24s 3ms/step - loss: 8.8710e-07\n",
      "Epoch 49/50\n",
      "8369/8369 [==============================] - 24s 3ms/step - loss: 8.6046e-07\n",
      "Epoch 50/50\n",
      "8369/8369 [==============================] - 27s 3ms/step - loss: 8.4919e-07\n"
     ]
    },
    {
     "data": {
      "text/plain": [
       "<keras.src.callbacks.History at 0x229a9883410>"
      ]
     },
     "execution_count": 14,
     "metadata": {},
     "output_type": "execute_result"
    }
   ],
   "source": [
    "model.fit(X_train, y_train, epochs=50, batch_size=1, verbose=1)"
   ]
  },
  {
   "cell_type": "code",
   "execution_count": 15,
   "id": "fe84f6d4",
   "metadata": {},
   "outputs": [
    {
     "name": "stdout",
     "output_type": "stream",
     "text": [
      "262/262 [==============================] - 1s 2ms/step\n",
      "66/66 [==============================] - 0s 3ms/step\n"
     ]
    }
   ],
   "source": [
    "train_predict = model.predict(X_train)\n",
    "test_predict = model.predict(X_test)"
   ]
  },
  {
   "cell_type": "code",
   "execution_count": 16,
   "id": "134eae05",
   "metadata": {},
   "outputs": [],
   "source": [
    "train_predict = scaler.inverse_transform(train_predict)\n",
    "test_predict = scaler.inverse_transform(test_predict)\n",
    "y_train = scaler.inverse_transform([y_train])\n",
    "y_test = scaler.inverse_transform([y_test])"
   ]
  },
  {
   "cell_type": "code",
   "execution_count": 17,
   "id": "2233e8e5",
   "metadata": {},
   "outputs": [
    {
     "data": {
      "image/png": "[encoded data removed]",
      "text/plain": [
       "<Figure size 1000x600 with 1 Axes>"
      ]
     },
     "metadata": {},
     "output_type": "display_data"
    }
   ],
   "source": [
    "train_len = len(train_predict)\n",
    "plt.figure(figsize=(10,6))\n",
    "plt.plot(data['Close'], label='Actual Stock Price', color='blue')\n",
    "plt.plot(data.index[time_step:train_len+time_step], train_predict, label='Train Predictions', color='green')\n",
    "plt.plot(data.index[train_len+(time_step*2):len(data)], test_predict, label='Test Predictions', color='red')\n",
    "plt.xlabel('Date')\n",
    "plt.ylabel('Close Price')\n",
    "plt.title('Stock Price Prediction using LSTM')\n",
    "plt.legend()\n",
    "plt.show()"
   ]
  },
  {
   "cell_type": "code",
   "execution_count": 18,
   "id": "32ebfe18",
   "metadata": {},
   "outputs": [
    {
     "name": "stdout",
     "output_type": "stream",
     "text": [
      "Test RMSE: 7.741283206078079\n"
     ]
    }
   ],
   "source": [
    "test_rmse = np.sqrt(mean_squared_error(y_test[0], test_predict))\n",
    "print(f'Test RMSE: {test_rmse}')"
   ]
  }
 ],
 "metadata": {
  "kernelspec": {
   "display_name": "Python 3 (ipykernel)",
   "language": "python",
   "name": "python3"
  },
  "language_info": {
   "codemirror_mode": {
    "name": "ipython",
    "version": 3
   },
   "file_extension": ".py",
   "mimetype": "text/x-python",
   "name": "python",
   "nbconvert_exporter": "python",
   "pygments_lexer": "ipython3",
   "version": "3.11.5"
  }
 },
 "nbformat": 4,
 "nbformat_minor": 5
}
